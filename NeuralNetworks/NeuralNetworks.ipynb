{
 "cells": [
  {
   "cell_type": "markdown",
   "metadata": {
    "collapsed": true
   },
   "source": [
    "# Import Python libs"
   ]
  },
  {
   "cell_type": "code",
   "execution_count": 1,
   "metadata": {
    "collapsed": false
   },
   "outputs": [],
   "source": [
    "%matplotlib inline\n",
    "import pandas as pd\n",
    "import numpy as np\n",
    "import matplotlib.pyplot as plt\n",
    "\n",
    "from sklearn.datasets import make_blobs\n",
    "from sklearn.preprocessing import LabelEncoder\n",
    "\n",
    "from sklearn.model_selection import train_test_split, GridSearchCV\n",
    "\n",
    "from sklearn.metrics import confusion_matrix, roc_curve, precision_score, recall_score, f1_score\n",
    "\n",
    "from sklearn.linear_model import Perceptron\n",
    "from sklearn.neural_network import MLPClassifier"
   ]
  },
  {
   "cell_type": "markdown",
   "metadata": {},
   "source": [
    "# Lab: Perceptron"
   ]
  },
  {
   "cell_type": "code",
   "execution_count": 2,
   "metadata": {
    "collapsed": false,
    "scrolled": false
   },
   "outputs": [
    {
     "name": "stdout",
     "output_type": "stream",
     "text": [
      "(10000, 2)\n"
     ]
    },
    {
     "data": {
      "text/plain": [
       "<matplotlib.collections.PathCollection at 0x1180e76a0>"
      ]
     },
     "execution_count": 2,
     "metadata": {},
     "output_type": "execute_result"
    },
    {
     "data": {
      "image/png": "[encoded data removed]",
      "text/plain": [
       "<matplotlib.figure.Figure at 0x10a55d860>"
      ]
     },
     "metadata": {},
     "output_type": "display_data"
    }
   ],
   "source": [
    "# Create blobs\n",
    "blobs, labels = make_blobs(n_samples = 10000, centers = 2, n_features = 2)\n",
    "print(blobs.shape)\n",
    "plt.scatter(blobs[:, 0], blobs[:, 1])"
   ]
  },
  {
   "cell_type": "code",
   "execution_count": 3,
   "metadata": {
    "collapsed": true
   },
   "outputs": [],
   "source": [
    "# Split darta\n",
    "blobs_train, blobs_test, labels_train, labels_test = train_test_split(blobs, labels, train_size = 0.7)"
   ]
  },
  {
   "cell_type": "markdown",
   "metadata": {},
   "source": [
    "- ### With not tuned model"
   ]
  },
  {
   "cell_type": "code",
   "execution_count": 4,
   "metadata": {
    "collapsed": false
   },
   "outputs": [
    {
     "data": {
      "text/plain": [
       "Perceptron(alpha=0.0001, class_weight=None, eta0=1.0, fit_intercept=True,\n",
       "      n_iter=5, n_jobs=1, penalty=None, random_state=0, shuffle=True,\n",
       "      verbose=0, warm_start=False)"
      ]
     },
     "execution_count": 4,
     "metadata": {},
     "output_type": "execute_result"
    }
   ],
   "source": [
    "# Create and train model\n",
    "perceptron = Perceptron()\n",
    "perceptron.fit(blobs_train, labels_train)"
   ]
  },
  {
   "cell_type": "code",
   "execution_count": 5,
   "metadata": {
    "collapsed": false
   },
   "outputs": [
    {
     "name": "stdout",
     "output_type": "stream",
     "text": [
      "0.999857142857\n",
      "1.0\n"
     ]
    }
   ],
   "source": [
    "# Score both in-sample and out-of-sample data\n",
    "print(perceptron.score(blobs_train, labels_train))\n",
    "print(perceptron.score(blobs_test, labels_test))"
   ]
  },
  {
   "cell_type": "code",
   "execution_count": 6,
   "metadata": {
    "collapsed": false
   },
   "outputs": [
    {
     "name": "stdout",
     "output_type": "stream",
     "text": [
      "[[1503    0]\n",
      " [   0 1497]]\n"
     ]
    }
   ],
   "source": [
    "predicted = perceptron.predict(blobs_test)\n",
    "print(confusion_matrix(labels_test, predicted))"
   ]
  },
  {
   "cell_type": "markdown",
   "metadata": {
    "collapsed": true
   },
   "source": [
    "- ### With tuned model"
   ]
  },
  {
   "cell_type": "code",
   "execution_count": 7,
   "metadata": {
    "collapsed": false
   },
   "outputs": [
    {
     "data": {
      "text/plain": [
       "Perceptron(alpha=0.0001, class_weight=None, eta0=1.0, fit_intercept=True,\n",
       "      n_iter=5, n_jobs=1, penalty='L1', random_state=0, shuffle=True,\n",
       "      verbose=0, warm_start=False)"
      ]
     },
     "execution_count": 7,
     "metadata": {},
     "output_type": "execute_result"
    }
   ],
   "source": [
    "tuned_perceptron = Perceptron()\n",
    "\n",
    "params = {\"penalty\": [ None, \"L1\", \"L2\"], \"alpha\": 10.0 ** - np.arange(1, 7) }\n",
    "grid = GridSearchCV(tuned_perceptron, params)\n",
    "grid.fit(blobs_train, labels_train)\n",
    "\n",
    "tuned_perceptron = grid.best_estimator_\n",
    "tuned_perceptron.fit(blobs_train, labels_train)"
   ]
  },
  {
   "cell_type": "code",
   "execution_count": 8,
   "metadata": {
    "collapsed": false
   },
   "outputs": [
    {
     "name": "stdout",
     "output_type": "stream",
     "text": [
      "0.999\n",
      "1.0\n"
     ]
    }
   ],
   "source": [
    "print(tuned_perceptron.score(blobs_train, labels_train))\n",
    "print(tuned_perceptron.score(blobs_test, labels_test))"
   ]
  },
  {
   "cell_type": "code",
   "execution_count": 9,
   "metadata": {
    "collapsed": false
   },
   "outputs": [
    {
     "name": "stdout",
     "output_type": "stream",
     "text": [
      "[[1503    0]\n",
      " [   0 1497]]\n"
     ]
    }
   ],
   "source": [
    "tuned_predicted = tuned_perceptron.predict(blobs_test)\n",
    "print(confusion_matrix(labels_test, tuned_predicted))"
   ]
  },
  {
   "cell_type": "markdown",
   "metadata": {},
   "source": [
    "# Lab: Classifying Handwritten Digits (MNIST dataset)"
   ]
  },
  {
   "cell_type": "code",
   "execution_count": 10,
   "metadata": {
    "collapsed": false
   },
   "outputs": [
    {
     "data": {
      "text/html": [
       "<div>\n",
       "<table border=\"1\" class=\"dataframe\">\n",
       "  <thead>\n",
       "    <tr style=\"text-align: right;\">\n",
       "      <th></th>\n",
       "      <th>label</th>\n",
       "      <th>pixel0</th>\n",
       "      <th>pixel1</th>\n",
       "      <th>pixel2</th>\n",
       "      <th>pixel3</th>\n",
       "      <th>pixel4</th>\n",
       "      <th>pixel5</th>\n",
       "      <th>pixel6</th>\n",
       "      <th>pixel7</th>\n",
       "      <th>pixel8</th>\n",
       "      <th>...</th>\n",
       "      <th>pixel774</th>\n",
       "      <th>pixel775</th>\n",
       "      <th>pixel776</th>\n",
       "      <th>pixel777</th>\n",
       "      <th>pixel778</th>\n",
       "      <th>pixel779</th>\n",
       "      <th>pixel780</th>\n",
       "      <th>pixel781</th>\n",
       "      <th>pixel782</th>\n",
       "      <th>pixel783</th>\n",
       "    </tr>\n",
       "  </thead>\n",
       "  <tbody>\n",
       "    <tr>\n",
       "      <th>0</th>\n",
       "      <td>1</td>\n",
       "      <td>0</td>\n",
       "      <td>0</td>\n",
       "      <td>0</td>\n",
       "      <td>0</td>\n",
       "      <td>0</td>\n",
       "      <td>0</td>\n",
       "      <td>0</td>\n",
       "      <td>0</td>\n",
       "      <td>0</td>\n",
       "      <td>...</td>\n",
       "      <td>0</td>\n",
       "      <td>0</td>\n",
       "      <td>0</td>\n",
       "      <td>0</td>\n",
       "      <td>0</td>\n",
       "      <td>0</td>\n",
       "      <td>0</td>\n",
       "      <td>0</td>\n",
       "      <td>0</td>\n",
       "      <td>0</td>\n",
       "    </tr>\n",
       "    <tr>\n",
       "      <th>1</th>\n",
       "      <td>0</td>\n",
       "      <td>0</td>\n",
       "      <td>0</td>\n",
       "      <td>0</td>\n",
       "      <td>0</td>\n",
       "      <td>0</td>\n",
       "      <td>0</td>\n",
       "      <td>0</td>\n",
       "      <td>0</td>\n",
       "      <td>0</td>\n",
       "      <td>...</td>\n",
       "      <td>0</td>\n",
       "      <td>0</td>\n",
       "      <td>0</td>\n",
       "      <td>0</td>\n",
       "      <td>0</td>\n",
       "      <td>0</td>\n",
       "      <td>0</td>\n",
       "      <td>0</td>\n",
       "      <td>0</td>\n",
       "      <td>0</td>\n",
       "    </tr>\n",
       "    <tr>\n",
       "      <th>2</th>\n",
       "      <td>1</td>\n",
       "      <td>0</td>\n",
       "      <td>0</td>\n",
       "      <td>0</td>\n",
       "      <td>0</td>\n",
       "      <td>0</td>\n",
       "      <td>0</td>\n",
       "      <td>0</td>\n",
       "      <td>0</td>\n",
       "      <td>0</td>\n",
       "      <td>...</td>\n",
       "      <td>0</td>\n",
       "      <td>0</td>\n",
       "      <td>0</td>\n",
       "      <td>0</td>\n",
       "      <td>0</td>\n",
       "      <td>0</td>\n",
       "      <td>0</td>\n",
       "      <td>0</td>\n",
       "      <td>0</td>\n",
       "      <td>0</td>\n",
       "    </tr>\n",
       "    <tr>\n",
       "      <th>3</th>\n",
       "      <td>4</td>\n",
       "      <td>0</td>\n",
       "      <td>0</td>\n",
       "      <td>0</td>\n",
       "      <td>0</td>\n",
       "      <td>0</td>\n",
       "      <td>0</td>\n",
       "      <td>0</td>\n",
       "      <td>0</td>\n",
       "      <td>0</td>\n",
       "      <td>...</td>\n",
       "      <td>0</td>\n",
       "      <td>0</td>\n",
       "      <td>0</td>\n",
       "      <td>0</td>\n",
       "      <td>0</td>\n",
       "      <td>0</td>\n",
       "      <td>0</td>\n",
       "      <td>0</td>\n",
       "      <td>0</td>\n",
       "      <td>0</td>\n",
       "    </tr>\n",
       "    <tr>\n",
       "      <th>4</th>\n",
       "      <td>0</td>\n",
       "      <td>0</td>\n",
       "      <td>0</td>\n",
       "      <td>0</td>\n",
       "      <td>0</td>\n",
       "      <td>0</td>\n",
       "      <td>0</td>\n",
       "      <td>0</td>\n",
       "      <td>0</td>\n",
       "      <td>0</td>\n",
       "      <td>...</td>\n",
       "      <td>0</td>\n",
       "      <td>0</td>\n",
       "      <td>0</td>\n",
       "      <td>0</td>\n",
       "      <td>0</td>\n",
       "      <td>0</td>\n",
       "      <td>0</td>\n",
       "      <td>0</td>\n",
       "      <td>0</td>\n",
       "      <td>0</td>\n",
       "    </tr>\n",
       "  </tbody>\n",
       "</table>\n",
       "<p>5 rows × 785 columns</p>\n",
       "</div>"
      ],
      "text/plain": [
       "   label  pixel0  pixel1  pixel2  pixel3  pixel4  pixel5  pixel6  pixel7  \\\n",
       "0      1       0       0       0       0       0       0       0       0   \n",
       "1      0       0       0       0       0       0       0       0       0   \n",
       "2      1       0       0       0       0       0       0       0       0   \n",
       "3      4       0       0       0       0       0       0       0       0   \n",
       "4      0       0       0       0       0       0       0       0       0   \n",
       "\n",
       "   pixel8    ...     pixel774  pixel775  pixel776  pixel777  pixel778  \\\n",
       "0       0    ...            0         0         0         0         0   \n",
       "1       0    ...            0         0         0         0         0   \n",
       "2       0    ...            0         0         0         0         0   \n",
       "3       0    ...            0         0         0         0         0   \n",
       "4       0    ...            0         0         0         0         0   \n",
       "\n",
       "   pixel779  pixel780  pixel781  pixel782  pixel783  \n",
       "0         0         0         0         0         0  \n",
       "1         0         0         0         0         0  \n",
       "2         0         0         0         0         0  \n",
       "3         0         0         0         0         0  \n",
       "4         0         0         0         0         0  \n",
       "\n",
       "[5 rows x 785 columns]"
      ]
     },
     "execution_count": 10,
     "metadata": {},
     "output_type": "execute_result"
    }
   ],
   "source": [
    "mnist = pd.read_csv(\"mnist.csv\")\n",
    "\n",
    "mnist.head()"
   ]
  },
  {
   "cell_type": "code",
   "execution_count": 11,
   "metadata": {
    "collapsed": false
   },
   "outputs": [
    {
     "name": "stdout",
     "output_type": "stream",
     "text": [
      "(8400, 784)\n",
      "(8400,)\n"
     ]
    }
   ],
   "source": [
    "# get 20% of all data\n",
    "mnist_data, _, mnist_labels, __ = train_test_split(mnist.drop(\"label\", axis = 1), mnist.label, train_size = 0.2)\n",
    "\n",
    "print(mnist_data.shape)\n",
    "print(mnist_labels.shape)"
   ]
  },
  {
   "cell_type": "code",
   "execution_count": 12,
   "metadata": {
    "collapsed": false
   },
   "outputs": [
    {
     "name": "stdout",
     "output_type": "stream",
     "text": [
      "(5880, 784)\n",
      "(2520, 784)\n"
     ]
    }
   ],
   "source": [
    "# split data\n",
    "mnist_train, mnist_test, labels_train, labels_test = train_test_split(mnist_data, mnist_labels, train_size = 0.7)\n",
    "\n",
    "print(mnist_train.shape)\n",
    "print(mnist_test.shape)"
   ]
  },
  {
   "cell_type": "markdown",
   "metadata": {},
   "source": [
    "- ### With default params"
   ]
  },
  {
   "cell_type": "code",
   "execution_count": 13,
   "metadata": {
    "collapsed": false
   },
   "outputs": [
    {
     "data": {
      "text/plain": [
       "MLPClassifier(activation='relu', alpha=0.0001, batch_size='auto', beta_1=0.9,\n",
       "       beta_2=0.999, early_stopping=False, epsilon=1e-08,\n",
       "       hidden_layer_sizes=(100,), learning_rate='constant',\n",
       "       learning_rate_init=0.001, max_iter=200, momentum=0.9,\n",
       "       nesterovs_momentum=True, power_t=0.5, random_state=None,\n",
       "       shuffle=True, solver='adam', tol=0.0001, validation_fraction=0.1,\n",
       "       verbose=False, warm_start=False)"
      ]
     },
     "execution_count": 13,
     "metadata": {},
     "output_type": "execute_result"
    }
   ],
   "source": [
    "nn = MLPClassifier()\n",
    "nn.fit(mnist_train, labels_train)"
   ]
  },
  {
   "cell_type": "code",
   "execution_count": 14,
   "metadata": {
    "collapsed": false
   },
   "outputs": [
    {
     "name": "stdout",
     "output_type": "stream",
     "text": [
      "Train accuracy score: 1.0\n",
      "Test accuracy score: 0.867857142857\n",
      "Test precision score: 0.868171859147\n",
      "Test recall score: 0.867857142857\n",
      "Test f1 score: 0.867667075012\n",
      "[[232   0   5   1   0   3   3   0   4   0]\n",
      " [  1 261   1   3   3   2   0   0   4   0]\n",
      " [  3   6 209   7   4   0   3   5   7   1]\n",
      " [  2   3  15 236   0  11   0   3   5   7]\n",
      " [  0   1   1   0 216   0   2   3   1  16]\n",
      " [  6   3   4  10   1 198   6   1  10   8]\n",
      " [  4   1   3   1   3   4 221   0   4   1]\n",
      " [  0   4   8   0   4   0   1 224   2  15]\n",
      " [  3   6  10   6   2  12   4   4 199   5]\n",
      " [  1   0   3   6  13   1   0  13   4 191]]\n"
     ]
    }
   ],
   "source": [
    "print(\"Train accuracy score: \" + str(nn.score(mnist_train, labels_train)))\n",
    "print(\"Test accuracy score: \"+ str(nn.score(mnist_test, labels_test)))\n",
    "\n",
    "predicted = nn.predict(mnist_test)\n",
    "print(\"Test precision score: \" + str(precision_score(labels_test, predicted, average = \"weighted\")))\n",
    "print(\"Test recall score: \" + str(recall_score(labels_test, predicted, average = \"weighted\")))\n",
    "print(\"Test f1 score: \" + str(f1_score(labels_test, predicted, average = \"weighted\")))\n",
    "print(confusion_matrix(labels_test, predicted))"
   ]
  },
  {
   "cell_type": "markdown",
   "metadata": {},
   "source": [
    "- ### With selected params"
   ]
  },
  {
   "cell_type": "code",
   "execution_count": 15,
   "metadata": {
    "collapsed": false
   },
   "outputs": [
    {
     "data": {
      "text/plain": [
       "MLPClassifier(activation='relu', alpha=0.0001, batch_size='auto', beta_1=0.9,\n",
       "       beta_2=0.999, early_stopping=False, epsilon=1e-08,\n",
       "       hidden_layer_sizes=(33, 33, 33), learning_rate='constant',\n",
       "       learning_rate_init=0.001, max_iter=200, momentum=0.9,\n",
       "       nesterovs_momentum=True, power_t=0.5, random_state=None,\n",
       "       shuffle=True, solver='adam', tol=0.0001, validation_fraction=0.1,\n",
       "       verbose=False, warm_start=False)"
      ]
     },
     "execution_count": 15,
     "metadata": {},
     "output_type": "execute_result"
    }
   ],
   "source": [
    "nn2 = MLPClassifier(hidden_layer_sizes = (33, 33, 33))\n",
    "nn2.fit(mnist_train, labels_train)"
   ]
  },
  {
   "cell_type": "code",
   "execution_count": 16,
   "metadata": {
    "collapsed": false
   },
   "outputs": [
    {
     "name": "stdout",
     "output_type": "stream",
     "text": [
      "Train accuracy score: 0.980952380952\n",
      "Test accuracy score: 0.855555555556\n",
      "Test precision score: 0.855925127387\n",
      "Test recall score: 0.855555555556\n",
      "Test f1 score: 0.855443015338\n",
      "[[232   0   1   3   0   3   3   0   5   1]\n",
      " [  0 264   3   1   1   1   0   1   4   0]\n",
      " [  2   1 207   9   8   1   3   3  10   1]\n",
      " [  4   3  10 221   1  22   1   5  13   2]\n",
      " [  1   0   0   0 205   0   4   3   0  27]\n",
      " [  2   1   1  34   5 183   3   2  10   6]\n",
      " [  2   0   2   2   5   5 223   0   3   0]\n",
      " [  0   3   3   2   5   1   2 226   4  12]\n",
      " [  8   5   9  12   5  11   2   0 196   3]\n",
      " [  1   1   1   5   8   3   1   8   5 199]]\n"
     ]
    }
   ],
   "source": [
    "print(\"Train accuracy score: \" + str(nn2.score(mnist_train, labels_train)))\n",
    "print(\"Test accuracy score: \"+ str(nn2.score(mnist_test, labels_test)))\n",
    "\n",
    "predicted = predicted = nn2.predict(mnist_test)\n",
    "print(\"Test precision score: \" + str(precision_score(labels_test, predicted, average = \"weighted\")))\n",
    "print(\"Test recall score: \" + str(recall_score(labels_test, predicted, average = \"weighted\")))\n",
    "print(\"Test f1 score: \" + str(f1_score(labels_test, predicted, average = \"weighted\")))\n",
    "print(confusion_matrix(labels_test, predicted))"
   ]
  },
  {
   "cell_type": "markdown",
   "metadata": {},
   "source": [
    "- ### With tuned params"
   ]
  },
  {
   "cell_type": "code",
   "execution_count": 17,
   "metadata": {
    "collapsed": false
   },
   "outputs": [
    {
     "name": "stdout",
     "output_type": "stream",
     "text": [
      "MLPClassifier(activation='relu', alpha=0.0001, batch_size='auto', beta_1=0.9,\n",
      "       beta_2=0.999, early_stopping=False, epsilon=1e-08,\n",
      "       hidden_layer_sizes=(20, 20, 20, 20, 20), learning_rate='constant',\n",
      "       learning_rate_init=0.001, max_iter=200, momentum=0.9,\n",
      "       nesterovs_momentum=True, power_t=0.5, random_state=None,\n",
      "       shuffle=True, solver='adam', tol=0.0001, validation_fraction=0.1,\n",
      "       verbose=False, warm_start=False)\n"
     ]
    }
   ],
   "source": [
    "nn3 = MLPClassifier()\n",
    "params = {\"hidden_layer_sizes\": [(50, 50), (25, 25, 25, 25), (20, 20, 20, 20, 20), (10, 30, 20, 30, 10)]}\n",
    "grid = GridSearchCV(nn3, params, cv = 10)\n",
    "grid.fit(mnist_train, labels_train)\n",
    "\n",
    "print(grid.best_estimator_)"
   ]
  },
  {
   "cell_type": "code",
   "execution_count": 18,
   "metadata": {
    "collapsed": false
   },
   "outputs": [
    {
     "name": "stdout",
     "output_type": "stream",
     "text": [
      "Train accuracy score: 0.957482993197\n",
      "Test accuracy score: 0.873015873016\n",
      "Test precision score: 0.875357018097\n",
      "Test recall score: 0.873015873016\n",
      "Test f1 score: 0.872888660105\n",
      "[[233   0   3   1   3   0   7   0   1   0]\n",
      " [  0 257   3   1   0   0   1   3   9   1]\n",
      " [  1   4 220   3   2   1   4   6   4   0]\n",
      " [  1   2   3 244   0   8   1   1  14   8]\n",
      " [  0   0   1   1 221   0   3   1   2  11]\n",
      " [  2   0   3  28   5 184   4   0  19   2]\n",
      " [  6   0   4   1   5   3 220   0   3   0]\n",
      " [  0   5   5   3   4   1   0 215   2  23]\n",
      " [  2   4   8   8   5   5   6   1 207   5]\n",
      " [  1   0   0   5  16   2   1   7   1 199]]\n"
     ]
    }
   ],
   "source": [
    "nn3 = grid.best_estimator_\n",
    "print(\"Train accuracy score: \" + str(nn3.score(mnist_train, labels_train)))\n",
    "print(\"Test accuracy score: \"+ str(nn3.score(mnist_test, labels_test)))\n",
    "\n",
    "predicted = predicted = nn3.predict(mnist_test)\n",
    "print(\"Test precision score: \" + str(precision_score(labels_test, predicted, average = \"weighted\")))\n",
    "print(\"Test recall score: \" + str(recall_score(labels_test, predicted, average = \"weighted\")))\n",
    "print(\"Test f1 score: \" + str(f1_score(labels_test, predicted, average = \"weighted\")))\n",
    "print(confusion_matrix(labels_test, predicted))"
   ]
  }
 ],
 "metadata": {
  "kernelspec": {
   "display_name": "Python 3",
   "language": "python",
   "name": "python3"
  },
  "language_info": {
   "codemirror_mode": {
    "name": "ipython",
    "version": 3
   },
   "file_extension": ".py",
   "mimetype": "text/x-python",
   "name": "python",
   "nbconvert_exporter": "python",
   "pygments_lexer": "ipython3",
   "version": "3.6.0"
  }
 },
 "nbformat": 4,
 "nbformat_minor": 0
}
